{
  "nbformat": 4,
  "nbformat_minor": 0,
  "metadata": {
    "colab": {
      "provenance": [],
      "authorship_tag": "ABX9TyNdJOWWp2BwS1c4qwG71zar",
      "include_colab_link": true
    },
    "kernelspec": {
      "name": "python3",
      "display_name": "Python 3"
    },
    "language_info": {
      "name": "python"
    }
  },
  "cells": [
    {
      "cell_type": "markdown",
      "metadata": {
        "id": "view-in-github",
        "colab_type": "text"
      },
      "source": [
        "<a href=\"https://colab.research.google.com/github/ahmedebeed555/NaiiveBays/blob/main/NaiiveBays.ipynb\" target=\"_parent\"><img src=\"https://colab.research.google.com/assets/colab-badge.svg\" alt=\"Open In Colab\"/></a>"
      ]
    },
    {
      "cell_type": "code",
      "execution_count": 5,
      "metadata": {
        "colab": {
          "base_uri": "https://localhost:8080/"
        },
        "id": "T9_Rn8ONjlUe",
        "outputId": "ea537eea-09ae-43d9-ba69-3b2057f0424b"
      },
      "outputs": [
        {
          "output_type": "stream",
          "name": "stdout",
          "text": [
            "Accuracy: 0.939622641509434\n",
            "\n",
            "Classification Report:\n",
            "                     precision    recall  f1-score   support\n",
            "\n",
            "         rec.autos       0.91      0.99      0.95       297\n",
            "talk.politics.misc       0.98      0.88      0.93       233\n",
            "\n",
            "          accuracy                           0.94       530\n",
            "         macro avg       0.95      0.93      0.94       530\n",
            "      weighted avg       0.94      0.94      0.94       530\n",
            "\n"
          ]
        }
      ],
      "source": [
        "from sklearn.datasets import fetch_20newsgroups\n",
        "from sklearn.model_selection import train_test_split\n",
        "from sklearn.feature_extraction.text import TfidfVectorizer\n",
        "from sklearn.naive_bayes import MultinomialNB\n",
        "from sklearn.metrics import accuracy_score, classification_report\n",
        "\n",
        "# 1. Load dataset\n",
        "categories = ['rec.autos', 'talk.politics.misc']  # two categories to simulate binary sentiment\n",
        "data = fetch_20newsgroups(subset='all', categories=categories, remove=('headers', 'footers', 'quotes'))\n",
        "\n",
        "# 2. Split into train/test\n",
        "X_train, X_test, y_train, y_test = train_test_split(\n",
        "    data.data, data.target, test_size=0.3, stratify=data.target, random_state=42\n",
        ")\n",
        "\n",
        "# 3. Convert text into TF-IDF features\n",
        "vectorizer = TfidfVectorizer(stop_words='english', lowercase=True)\n",
        "X_train_tfidf = vectorizer.fit_transform(X_train)\n",
        "X_test_tfidf = vectorizer.transform(X_test)\n",
        "\n",
        "# 4. Train Naïve Bayes\n",
        "model = MultinomialNB(alpha=1.0)\n",
        "model.fit(X_train_tfidf, y_train)\n",
        "\n",
        "# 5. Predictions\n",
        "predictions = model.predict(X_test_tfidf)\n",
        "\n",
        "# 6. Evaluation\n",
        "print(\"Accuracy:\", accuracy_score(y_test, predictions))\n",
        "print(\"\\nClassification Report:\\n\", classification_report(y_test, predictions, target_names=categories))\n"
      ]
    }
  ]
}