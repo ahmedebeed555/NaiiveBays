{
  "nbformat": 4,
  "nbformat_minor": 0,
  "metadata": {
    "colab": {
      "provenance": [],
      "authorship_tag": "ABX9TyNzsUu14cxemHqCGLAsgojT",
      "include_colab_link": true
    },
    "kernelspec": {
      "name": "python3",
      "display_name": "Python 3"
    },
    "language_info": {
      "name": "python"
    }
  },
  "cells": [
    {
      "cell_type": "markdown",
      "metadata": {
        "id": "view-in-github",
        "colab_type": "text"
      },
      "source": [
        "<a href=\"https://colab.research.google.com/github/ahmedebeed555/NaiiveBays/blob/main/NaiiveBays.ipynb\" target=\"_parent\"><img src=\"https://colab.research.google.com/assets/colab-badge.svg\" alt=\"Open In Colab\"/></a>"
      ]
    },
    {
      "cell_type": "markdown",
      "source": [
        "Multinomial Naiive Bays"
      ],
      "metadata": {
        "id": "nYraiw3DzyHb"
      }
    },
    {
      "cell_type": "code",
      "execution_count": 5,
      "metadata": {
        "colab": {
          "base_uri": "https://localhost:8080/"
        },
        "id": "T9_Rn8ONjlUe",
        "outputId": "ea537eea-09ae-43d9-ba69-3b2057f0424b"
      },
      "outputs": [
        {
          "output_type": "stream",
          "name": "stdout",
          "text": [
            "Accuracy: 0.939622641509434\n",
            "\n",
            "Classification Report:\n",
            "                     precision    recall  f1-score   support\n",
            "\n",
            "         rec.autos       0.91      0.99      0.95       297\n",
            "talk.politics.misc       0.98      0.88      0.93       233\n",
            "\n",
            "          accuracy                           0.94       530\n",
            "         macro avg       0.95      0.93      0.94       530\n",
            "      weighted avg       0.94      0.94      0.94       530\n",
            "\n"
          ]
        }
      ],
      "source": [
        "from sklearn.datasets import fetch_20newsgroups\n",
        "from sklearn.model_selection import train_test_split\n",
        "from sklearn.feature_extraction.text import TfidfVectorizer\n",
        "from sklearn.naive_bayes import MultinomialNB\n",
        "from sklearn.metrics import accuracy_score, classification_report\n",
        "\n",
        "# 1. Load dataset\n",
        "categories = ['rec.autos', 'talk.politics.misc']  # two categories to simulate binary sentiment\n",
        "data = fetch_20newsgroups(subset='all', categories=categories, remove=('headers', 'footers', 'quotes'))\n",
        "\n",
        "# 2. Split into train/test\n",
        "X_train, X_test, y_train, y_test = train_test_split(\n",
        "    data.data, data.target, test_size=0.3, stratify=data.target, random_state=42\n",
        ")\n",
        "\n",
        "# 3. Convert text into TF-IDF features\n",
        "vectorizer = TfidfVectorizer(stop_words='english', lowercase=True)\n",
        "X_train_tfidf = vectorizer.fit_transform(X_train)\n",
        "X_test_tfidf = vectorizer.transform(X_test)\n",
        "\n",
        "# 4. Train Naïve Bayes\n",
        "model = MultinomialNB(alpha=1.0)\n",
        "model.fit(X_train_tfidf, y_train)\n",
        "\n",
        "# 5. Predictions\n",
        "predictions = model.predict(X_test_tfidf)\n",
        "\n",
        "# 6. Evaluation\n",
        "print(\"Accuracy:\", accuracy_score(y_test, predictions))\n",
        "print(\"\\nClassification Report:\\n\", classification_report(y_test, predictions, target_names=categories))\n"
      ]
    },
    {
      "cell_type": "markdown",
      "source": [
        "Gaussian Naiive Bays"
      ],
      "metadata": {
        "id": "SSZtWaoo6Nj5"
      }
    },
    {
      "cell_type": "code",
      "source": [
        "from sklearn.datasets import load_iris\n",
        "from sklearn.model_selection import train_test_split\n",
        "from sklearn.naive_bayes import GaussianNB\n",
        "from sklearn.metrics import accuracy_score, classification_report\n",
        "\n",
        "# 1. Load dataset (Iris: flower classification)\n",
        "iris = load_iris()\n",
        "X, y = iris.data, iris.target\n",
        "\n",
        "# 2. Split into train/test\n",
        "X_train, X_test, y_train, y_test = train_test_split(\n",
        "    X, y, test_size=0.3, stratify=y, random_state=42\n",
        ")\n",
        "\n",
        "# 3. Train Gaussian Naïve Bayes\n",
        "model = GaussianNB()\n",
        "model.fit(X_train, y_train)\n",
        "\n",
        "# 4. Predictions\n",
        "y_pred = model.predict(X_test)\n",
        "\n",
        "# 5. Evaluation\n",
        "print(\"Accuracy:\", accuracy_score(y_test, y_pred))\n",
        "print(\"\\nClassification Report:\\n\", classification_report(y_test, y_pred, target_names=iris.target_names))\n"
      ],
      "metadata": {
        "colab": {
          "base_uri": "https://localhost:8080/"
        },
        "id": "-Ry8iKtd6Pyu",
        "outputId": "be220eb0-d812-4011-9051-d40252f76f42"
      },
      "execution_count": 6,
      "outputs": [
        {
          "output_type": "stream",
          "name": "stdout",
          "text": [
            "Accuracy: 0.9111111111111111\n",
            "\n",
            "Classification Report:\n",
            "               precision    recall  f1-score   support\n",
            "\n",
            "      setosa       1.00      1.00      1.00        15\n",
            "  versicolor       0.82      0.93      0.88        15\n",
            "   virginica       0.92      0.80      0.86        15\n",
            "\n",
            "    accuracy                           0.91        45\n",
            "   macro avg       0.92      0.91      0.91        45\n",
            "weighted avg       0.92      0.91      0.91        45\n",
            "\n"
          ]
        }
      ]
    },
    {
      "cell_type": "markdown",
      "source": [
        "Bernolli Naiive Bays\n",
        "\n"
      ],
      "metadata": {
        "id": "K4njePQU6SSQ"
      }
    },
    {
      "cell_type": "code",
      "source": [
        "import numpy as np\n",
        "import pandas as pd\n",
        "from sklearn.datasets import fetch_20newsgroups\n",
        "from sklearn.model_selection import train_test_split\n",
        "from sklearn.feature_extraction.text import CountVectorizer\n",
        "from sklearn.naive_bayes import BernoulliNB\n",
        "from sklearn.metrics import accuracy_score, classification_report\n",
        "\n",
        "# 1. Load dataset\n",
        "categories = ['rec.autos', 'talk.politics.misc']\n",
        "data = fetch_20newsgroups(subset='all', categories=categories, remove=('headers', 'footers', 'quotes'))\n",
        "\n",
        "# 2. Train/test split\n",
        "X_train, X_test, y_train, y_test = train_test_split(\n",
        "    data.data, data.target, test_size=0.3, stratify=data.target, random_state=42\n",
        ")\n",
        "\n",
        "# 3. Convert text to binary features (word present or not)\n",
        "vectorizer = CountVectorizer(binary=True, stop_words='english')\n",
        "X_train_bin = vectorizer.fit_transform(X_train)\n",
        "X_test_bin = vectorizer.transform(X_test)\n",
        "\n",
        "# 4. Train Bernoulli Naïve Bayes\n",
        "model = BernoulliNB()\n",
        "model.fit(X_train_bin, y_train)\n",
        "\n",
        "# 5. Predictions\n",
        "y_pred = model.predict(X_test_bin)\n",
        "\n",
        "# 6. Evaluation\n",
        "print(\"Accuracy:\", accuracy_score(y_test, y_pred))\n",
        "print(\"\\nClassification Report:\\n\", classification_report(y_test, y_pred, target_names=categories))\n"
      ],
      "metadata": {
        "colab": {
          "base_uri": "https://localhost:8080/"
        },
        "id": "hYXrL9TD7kfK",
        "outputId": "b4e94627-f048-4255-ab99-fccca4b4e13d"
      },
      "execution_count": 7,
      "outputs": [
        {
          "output_type": "stream",
          "name": "stdout",
          "text": [
            "Accuracy: 0.7679245283018868\n",
            "\n",
            "Classification Report:\n",
            "                     precision    recall  f1-score   support\n",
            "\n",
            "         rec.autos       0.71      1.00      0.83       297\n",
            "talk.politics.misc       0.99      0.48      0.64       233\n",
            "\n",
            "          accuracy                           0.77       530\n",
            "         macro avg       0.85      0.74      0.74       530\n",
            "      weighted avg       0.83      0.77      0.75       530\n",
            "\n"
          ]
        }
      ]
    }
  ]
}